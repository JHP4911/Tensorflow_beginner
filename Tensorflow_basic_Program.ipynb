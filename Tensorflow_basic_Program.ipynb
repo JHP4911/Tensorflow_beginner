{
  "nbformat": 4,
  "nbformat_minor": 0,
  "metadata": {
    "colab": {
      "name": "Tensorflow basic Program.ipynb",
      "provenance": [],
      "authorship_tag": "ABX9TyMhfgwoeTNsxRqJcuwGnu8f",
      "include_colab_link": true
    },
    "kernelspec": {
      "name": "python3",
      "display_name": "Python 3"
    }
  },
  "cells": [
    {
      "cell_type": "markdown",
      "metadata": {
        "id": "view-in-github",
        "colab_type": "text"
      },
      "source": [
        "<a href=\"https://colab.research.google.com/github/suryadeepti/Tensorflow_beginner/blob/main/Tensorflow_basic_Program.ipynb\" target=\"_parent\"><img src=\"https://colab.research.google.com/assets/colab-badge.svg\" alt=\"Open In Colab\"/></a>"
      ]
    },
    {
      "cell_type": "code",
      "metadata": {
        "id": "GRIOEue_EauD",
        "colab": {
          "base_uri": "https://localhost:8080/",
          "height": 1000
        },
        "outputId": "bd0f53a8-2edb-407e-b975-fac4e5093dc0"
      },
      "source": [
        "import tensorflow as tf \r\n",
        "import numpy as np \r\n",
        "import matplotlib.pyplot as plt \r\n",
        "  \r\n",
        "# Model Parameters \r\n",
        "learning_rate = 0.01\r\n",
        "training_epochs = 2000\r\n",
        "display_step = 200\r\n",
        "  \r\n",
        "# Training Data \r\n",
        "train_X = np.asarray([3.3,4.4,5.5,6.71,6.93,4.168,9.779,6.182,7.59,2.167, \r\n",
        "                         7.042,10.791,5.313,7.997,5.654,9.27,3.1]) \r\n",
        "train_y = np.asarray([1.7,2.76,2.09,3.19,1.694,1.573,3.366,2.596,2.53,1.221, \r\n",
        "                         2.827,3.465,1.65,2.904,2.42,2.94,1.3]) \r\n",
        "n_samples = train_X.shape[0] \r\n",
        "  \r\n",
        "# Test Data \r\n",
        "test_X = np.asarray([6.83, 4.668, 8.9, 7.91, 5.7, 8.7, 3.1, 2.1]) \r\n",
        "test_y = np.asarray([1.84, 2.273, 3.2, 2.831, 2.92, 3.24, 1.35, 1.03]) \r\n",
        "  \r\n",
        "# Set placeholders for feature and target vectors \r\n",
        "#X = tf.placeholder(tf.float32) \r\n",
        "X=tf.keras.Input(shape=(), dtype=tf.dtypes.float32)\r\n",
        "y = tf.keras.Input(shape=(), dtype=tf.dtypes.float32)\r\n",
        "  \r\n",
        "# Set model weights and bias \r\n",
        "W = tf.Variable(np.random.randn(), name=\"weight\") \r\n",
        "b = tf.Variable(np.random.randn(), name=\"bias\") \r\n",
        "  \r\n",
        "# Construct a linear model \r\n",
        "linear_model = W*X + b \r\n",
        "  \r\n",
        "# Mean squared error \r\n",
        "cost = tf.reduce_sum(tf.square(linear_model - y)) / (2*n_samples) \r\n",
        "  \r\n",
        "# Gradient descent \r\n",
        "optimizer = tf.train.GradientDescentOptimizer(learning_rate).minimize(cost) \r\n",
        "  \r\n",
        "# Initializing the variables \r\n",
        "init = tf.global_variables_initializer() \r\n",
        "  \r\n",
        "# Launch the graph \r\n",
        "with tf.Session() as sess: \r\n",
        "    # Load initialized variables in current session \r\n",
        "    sess.run(init) \r\n",
        "  \r\n",
        "    # Fit all training data \r\n",
        "    for epoch in range(training_epochs): \r\n",
        "  \r\n",
        "        # perform gradient descent step \r\n",
        "        sess.run(optimizer, feed_dict={X: train_X, y: train_y}) \r\n",
        "          \r\n",
        "        # Display logs per epoch step \r\n",
        "        if (epoch+1) % display_step == 0: \r\n",
        "            c = sess.run(cost, feed_dict={X: train_X, y: train_y}) \r\n",
        "            print(\"Epoch:{0:6} \\t Cost:{1:10.4} \\t W:{2:6.4} \\t b:{3:6.4}\". \r\n",
        "                  format(epoch+1, c, sess.run(W), sess.run(b))) \r\n",
        "              \r\n",
        "    # Print final parameter values \r\n",
        "    print(\"Optimization Finished!\") \r\n",
        "    training_cost = sess.run(cost, feed_dict={X: train_X, y: train_y}) \r\n",
        "    print(\"Final training cost:\", training_cost, \"W:\", sess.run(W), \"b:\",  \r\n",
        "          sess.run(b), '\\n') \r\n",
        "      \r\n",
        "    # Graphic display \r\n",
        "    plt.plot(train_X, train_y, 'ro', label='Original data') \r\n",
        "    plt.plot(train_X, sess.run(W) * train_X + sess.run(b), label='Fitted line') \r\n",
        "    plt.legend() \r\n",
        "    plt.show() \r\n",
        "  \r\n",
        "    # Testing the model \r\n",
        "    testing_cost = sess.run(tf.reduce_sum(tf.square(linear_model - y)) / (2 * test_X.shape[0]), \r\n",
        "                            feed_dict={X: test_X, y: test_y}) \r\n",
        "      \r\n",
        "    print(\"Final testing cost:\", testing_cost) \r\n",
        "    print(\"Absolute mean square loss difference:\", abs(training_cost - testing_cost)) \r\n",
        "  \r\n",
        "    # Display fitted line on test data \r\n",
        "    plt.plot(test_X, test_y, 'bo', label='Testing data') \r\n",
        "    plt.plot(train_X, sess.run(W) * train_X + sess.run(b), label='Fitted line') \r\n",
        "    plt.legend() \r\n",
        "    plt.show() \r\n",
        "import tensorflow as tf \r\n",
        "import numpy as np \r\n",
        "import matplotlib.pyplot as plt \r\n",
        "  \r\n",
        "# Model Parameters \r\n",
        "learning_rate = 0.01\r\n",
        "training_epochs = 2000\r\n",
        "display_step = 200\r\n",
        "  \r\n",
        "# Training Data \r\n",
        "train_X = np.asarray([3.3,4.4,5.5,6.71,6.93,4.168,9.779,6.182,7.59,2.167, \r\n",
        "                         7.042,10.791,5.313,7.997,5.654,9.27,3.1]) \r\n",
        "train_y = np.asarray([1.7,2.76,2.09,3.19,1.694,1.573,3.366,2.596,2.53,1.221, \r\n",
        "                         2.827,3.465,1.65,2.904,2.42,2.94,1.3]) \r\n",
        "n_samples = train_X.shape[0] \r\n",
        "  \r\n",
        "# Test Data \r\n",
        "test_X = np.asarray([6.83, 4.668, 8.9, 7.91, 5.7, 8.7, 3.1, 2.1]) \r\n",
        "test_y = np.asarray([1.84, 2.273, 3.2, 2.831, 2.92, 3.24, 1.35, 1.03]) \r\n",
        "  \r\n",
        "# Set placeholders for feature and target vectors \r\n",
        "#X = tf.placeholder(tf.float32) \r\n",
        "X=tf.keras.Input(shape=(), dtype=tf.dtypes.float32)\r\n",
        "  \r\n",
        "# Set model weights and bias \r\n",
        "W = tf.Variable(np.random.randn(), name=\"weight\") \r\n",
        "b = tf.Variable(np.random.randn(), name=\"bias\") \r\n",
        "  \r\n",
        "# Construct a linear model \r\n",
        "linear_model = W*X + b \r\n",
        "  \r\n",
        "# Mean squared error \r\n",
        "cost = tf.reduce_sum(tf.square(linear_model - y)) / (2*n_samples) \r\n",
        "\r\n",
        "# Gradient descent \r\n",
        "optimizer = tf.train.GradientDescentOptimizer(learning_rate).minimize(cost) \r\n",
        "  \r\n",
        "# Initializing the variables \r\n",
        "init = tf.global_variables_initializer() \r\n",
        "  \r\n",
        "# Launch the graph \r\n",
        "with tf.Session() as sess: \r\n",
        "    # Load initialized variables in current session \r\n",
        "    sess.run(init) \r\n",
        "  \r\n",
        "    # Fit all training data \r\n",
        "    for epoch in range(training_epochs): \r\n",
        "  \r\n",
        "        # perform gradient descent step \r\n",
        "        sess.run(optimizer, feed_dict={X: train_X, y: train_y}) \r\n",
        "          \r\n",
        "        # Display logs per epoch step \r\n",
        "        if (epoch+1) % display_step == 0: \r\n",
        "            c = sess.run(cost, feed_dict={X: train_X, y: train_y}) \r\n",
        "            print(\"Epoch:{0:6} \\t Cost:{1:10.4} \\t W:{2:6.4} \\t b:{3:6.4}\". \r\n",
        "                  format(epoch+1, c, sess.run(W), sess.run(b))) \r\n",
        "              \r\n",
        "    # Print final parameter values \r\n",
        "    print(\"Optimization Finished!\") \r\n",
        "    training_cost = sess.run(cost, feed_dict={X: train_X, y: train_y}) \r\n",
        "    print(\"Final training cost:\", training_cost, \"W:\", sess.run(W), \"b:\",  \r\n",
        "          sess.run(b), '\\n') \r\n",
        "      \r\n",
        "    # Graphic display \r\n",
        "    plt.plot(train_X, train_y, 'ro', label='Original data') \r\n",
        "    plt.plot(train_X, sess.run(W) * train_X + sess.run(b), label='Fitted line') \r\n",
        "    plt.legend() \r\n",
        "    plt.show() \r\n",
        "  \r\n",
        "    # Testing the model \r\n",
        "    testing_cost = sess.run(tf.reduce_sum(tf.square(linear_model - y)) / (2 * test_X.shape[0]), \r\n",
        "                            feed_dict={X: test_X, y: test_y}) \r\n",
        "      \r\n",
        "    print(\"Final testing cost:\", testing_cost) \r\n",
        "    print(\"Absolute mean square loss difference:\", abs(training_cost - testing_cost)) \r\n",
        "  \r\n",
        "    # Display fitted line on test data \r\n",
        "    plt.plot(test_X, test_y, 'bo', label='Testing data') \r\n",
        "    plt.plot(train_X, sess.run(W) * train_X + sess.run(b), label='Fitted line') \r\n",
        "    plt.legend() \r\n",
        "    plt.show() "
      ],
      "execution_count": 1,
      "outputs": [
        {
          "output_type": "stream",
          "text": [
            "Epoch:   200 \t Cost:   0.08025 \t W:0.2843 \t b:0.5671\n",
            "Epoch:   400 \t Cost:   0.07897 \t W:0.2773 \t b:0.6171\n",
            "Epoch:   600 \t Cost:   0.07819 \t W:0.2717 \t b:0.6563\n",
            "Epoch:   800 \t Cost:    0.0777 \t W:0.2674 \t b: 0.687\n",
            "Epoch:  1000 \t Cost:    0.0774 \t W: 0.264 \t b:0.7111\n",
            "Epoch:  1200 \t Cost:   0.07722 \t W:0.2613 \t b:  0.73\n",
            "Epoch:  1400 \t Cost:   0.07711 \t W:0.2592 \t b:0.7449\n",
            "Epoch:  1600 \t Cost:   0.07704 \t W:0.2576 \t b:0.7565\n",
            "Epoch:  1800 \t Cost:     0.077 \t W:0.2563 \t b:0.7656\n",
            "Epoch:  2000 \t Cost:   0.07697 \t W:0.2553 \t b:0.7728\n",
            "Optimization Finished!\n",
            "Final training cost: 0.07697076 W: 0.25530595 b: 0.7727754 \n",
            "\n"
          ],
          "name": "stdout"
        },
        {
          "output_type": "display_data",
          "data": {
            "image/png": "[encoded data removed]",
            "text/plain": [
              "<Figure size 432x288 with 1 Axes>"
            ]
          },
          "metadata": {
            "tags": [],
            "needs_background": "light"
          }
        },
        {
          "output_type": "stream",
          "text": [
            "Final testing cost: 0.07758856\n",
            "Absolute mean square loss difference: 0.0006177947\n"
          ],
          "name": "stdout"
        },
        {
          "output_type": "display_data",
          "data": {
            "image/png": "[encoded data removed]",
            "text/plain": [
              "<Figure size 432x288 with 1 Axes>"
            ]
          },
          "metadata": {
            "tags": [],
            "needs_background": "light"
          }
        },
        {
          "output_type": "stream",
          "text": [
            "Epoch:   200 \t Cost:     0.303 \t W:0.5212 \t b:-1.112\n",
            "Epoch:   400 \t Cost:     0.216 \t W:0.4631 \t b:-0.7001\n",
            "Epoch:   600 \t Cost:    0.1625 \t W:0.4175 \t b:-0.3769\n",
            "Epoch:   800 \t Cost:    0.1296 \t W:0.3817 \t b:-0.1233\n",
            "Epoch:  1000 \t Cost:    0.1093 \t W:0.3537 \t b:0.07554\n",
            "Epoch:  1200 \t Cost:   0.09685 \t W:0.3317 \t b:0.2315\n",
            "Epoch:  1400 \t Cost:   0.08918 \t W:0.3144 \t b:0.3539\n",
            "Epoch:  1600 \t Cost:   0.08447 \t W:0.3009 \t b:0.4498\n",
            "Epoch:  1800 \t Cost:   0.08157 \t W:0.2902 \t b:0.5251\n",
            "Epoch:  2000 \t Cost:   0.07978 \t W:0.2819 \t b:0.5841\n",
            "Optimization Finished!\n",
            "Final training cost: 0.07978191 W: 0.2819177 b: 0.58411 \n",
            "\n"
          ],
          "name": "stdout"
        },
        {
          "output_type": "display_data",
          "data": {
            "image/png": "[encoded data removed]",
            "text/plain": [
              "<Figure size 432x288 with 1 Axes>"
            ]
          },
          "metadata": {
            "tags": [],
            "needs_background": "light"
          }
        },
        {
          "output_type": "stream",
          "text": [
            "Final testing cost: 0.07530195\n",
            "Absolute mean square loss difference: 0.0044799596\n"
          ],
          "name": "stdout"
        },
        {
          "output_type": "display_data",
          "data": {
            "image/png": "[encoded data removed]",
            "text/plain": [
              "<Figure size 432x288 with 1 Axes>"
            ]
          },
          "metadata": {
            "tags": [],
            "needs_background": "light"
          }
        }
      ]
    },
    {
      "cell_type": "code",
      "metadata": {
        "id": "2RlQ_7IOEcVl"
      },
      "source": [
        ""
      ],
      "execution_count": null,
      "outputs": []
    }
  ]
}